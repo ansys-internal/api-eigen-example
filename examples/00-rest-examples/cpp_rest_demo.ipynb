{
 "cells": [
  {
   "cell_type": "markdown",
   "id": "d5938c99",
   "metadata": {
    "papermill": {
     "duration": 0.006662,
     "end_time": "2022-05-13T14:09:24.449319",
     "exception": false,
     "start_time": "2022-05-13T14:09:24.442657",
     "status": "completed"
    },
    "tags": []
   },
   "source": [
    "# API REST Eigen Example using C++"
   ]
  },
  {
   "cell_type": "markdown",
   "id": "0fdeacfd",
   "metadata": {
    "papermill": {
     "duration": 0.003526,
     "end_time": "2022-05-13T14:09:24.464582",
     "exception": false,
     "start_time": "2022-05-13T14:09:24.461056",
     "status": "completed"
    },
    "tags": []
   },
   "source": [
    "In the following demo, we will be showing the basics of API REST protocols by means of a simple library we have created. This library basically contains two elements in its C++ version:\n",
    "\n",
    "* A **server** which basically implements an API REST interface to communicate with an installed library within it, in our case the Eigen library. This API REST interface basically exposes certain functionalities such as adding and multiplying Eigen::VectorXd and Eigen::MatrixXd in a simple way.\n",
    "\n",
    "* A **client** in charge of easing the interaction with the server by means of API REST interface specific methods. By using the client library, one does not need to know the specifics of the API REST interface. \n",
    "\n",
    "So, let's get started by importing our client!"
   ]
  },
  {
   "cell_type": "markdown",
   "id": "96f5e44e",
   "metadata": {
    "papermill": {
     "duration": 0.002277,
     "end_time": "2022-05-13T14:09:24.469790",
     "exception": false,
     "start_time": "2022-05-13T14:09:24.467513",
     "status": "completed"
    },
    "tags": []
   },
   "source": [
    "**WARNING!!** - This demo is a C++ demo! In order of being capable of running \"interpretable\" C++ code, some additional libraries were required to be installed using conda. More details can be found in the Dockerfile of this client and in the docs of the project. Do not expect to just copy this demo and run, since it will not work."
   ]
  },
  {
   "cell_type": "code",
   "execution_count": 1,
   "id": "32c2b1a9",
   "metadata": {
    "execution": {
     "iopub.execute_input": "2022-05-13T14:09:24.474436Z",
     "iopub.status.busy": "2022-05-13T14:09:24.474372Z",
     "iopub.status.idle": "2022-05-13T14:09:24.474742Z",
     "shell.execute_reply": "2022-05-13T14:09:24.474694Z"
    },
    "papermill": {
     "duration": 0.004378,
     "end_time": "2022-05-13T14:09:24.476062",
     "exception": false,
     "start_time": "2022-05-13T14:09:24.471684",
     "status": "completed"
    },
    "tags": [],
    "vscode": {
     "languageId": "cpp"
    }
   },
   "outputs": [],
   "source": [
    "#pragma cling add_include_path(\"/usr/local/include\")\n",
    "#pragma cling add_library_path(\"/usr/local/lib\")"
   ]
  },
  {
   "cell_type": "code",
   "execution_count": 2,
   "id": "8b813631",
   "metadata": {
    "execution": {
     "iopub.execute_input": "2022-05-13T14:09:24.480419Z",
     "iopub.status.busy": "2022-05-13T14:09:24.480367Z",
     "iopub.status.idle": "2022-05-13T14:09:24.482163Z",
     "shell.execute_reply": "2022-05-13T14:09:24.482113Z"
    },
    "papermill": {
     "duration": 0.005118,
     "end_time": "2022-05-13T14:09:24.483075",
     "exception": false,
     "start_time": "2022-05-13T14:09:24.477957",
     "status": "completed"
    },
    "tags": [],
    "vscode": {
     "languageId": "cpp"
    }
   },
   "outputs": [],
   "source": [
    "#pragma cling load(\"libapi_eigen_example_rest_client\")"
   ]
  },
  {
   "cell_type": "code",
   "execution_count": 3,
   "id": "f95b0150",
   "metadata": {
    "execution": {
     "iopub.execute_input": "2022-05-13T14:09:24.488613Z",
     "iopub.status.busy": "2022-05-13T14:09:24.488566Z",
     "iopub.status.idle": "2022-05-13T14:09:24.521853Z",
     "shell.execute_reply": "2022-05-13T14:09:24.521791Z"
    },
    "papermill": {
     "duration": 0.037882,
     "end_time": "2022-05-13T14:09:24.522947",
     "exception": false,
     "start_time": "2022-05-13T14:09:24.485065",
     "status": "completed"
    },
    "tags": [],
    "vscode": {
     "languageId": "cpp"
    }
   },
   "outputs": [],
   "source": [
    "// Let us create a Client object first. This starts by importing the library\n",
    "#include <apieigen/rest/EigenClient.hpp>"
   ]
  },
  {
   "cell_type": "markdown",
   "id": "27a02107",
   "metadata": {
    "papermill": {
     "duration": 0.002516,
     "end_time": "2022-05-13T14:09:24.527571",
     "exception": false,
     "start_time": "2022-05-13T14:09:24.525055",
     "status": "completed"
    },
    "tags": []
   },
   "source": [
    "This ``EigenClient`` class is basically the one which will handle the API REST interface with the server, together with the connection itself, the formatting of the request and so on. When constructing the class we must provide as inputs the ``baseUrl`` of the server, which is basically the endpoint we are accessing. For this demo we are running, since we deployed both client and server in a docker-compose task, these containers will recognize each other by their docker container names, since they are in the same docker network. Thus, we will provide us arguments:\n",
    "\n",
    "* Base URL: http://cpp-rest_server_1/18080\n",
    "\n",
    "The server is exposed by **IP 0.0.0.0** and **port 18080** as per defined in the Dockerfile of the server. Thus, the previous inputs should be provided. This ``EigenClient`` class also allows for Basic Authentication in case the server were to be protected. Please, see below how to provide the ``user`` and ``pwd`` in the following example.\n",
    "\n",
    "This ``EigenClient`` also allows for a specific timeout for the connection, which would also have to be provided."
   ]
  },
  {
   "cell_type": "code",
   "execution_count": 4,
   "id": "2db504fb",
   "metadata": {
    "execution": {
     "iopub.execute_input": "2022-05-13T14:09:24.532024Z",
     "iopub.status.busy": "2022-05-13T14:09:24.531978Z",
     "iopub.status.idle": "2022-05-13T14:09:24.534591Z",
     "shell.execute_reply": "2022-05-13T14:09:24.534549Z"
    },
    "papermill": {
     "duration": 0.006007,
     "end_time": "2022-05-13T14:09:24.535565",
     "exception": false,
     "start_time": "2022-05-13T14:09:24.529558",
     "status": "completed"
    },
    "tags": [],
    "vscode": {
     "languageId": "cpp"
    }
   },
   "outputs": [
    {
     "name": "stdout",
     "output_type": "stream",
     "text": [
      "EigenClient object created.\n"
     ]
    }
   ],
   "source": [
    "// Let us instantiate our client\n",
    "auto client = ansys::rest::client::EigenClient(\"http:/cpp-rest_server_1:18080\");"
   ]
  },
  {
   "cell_type": "code",
   "execution_count": 5,
   "id": "1bb484bd",
   "metadata": {
    "execution": {
     "iopub.execute_input": "2022-05-13T14:09:24.540671Z",
     "iopub.status.busy": "2022-05-13T14:09:24.540626Z",
     "iopub.status.idle": "2022-05-13T14:09:24.542366Z",
     "shell.execute_reply": "2022-05-13T14:09:24.542331Z"
    },
    "papermill": {
     "duration": 0.00637,
     "end_time": "2022-05-13T14:09:24.543933",
     "exception": false,
     "start_time": "2022-05-13T14:09:24.537563",
     "status": "completed"
    },
    "tags": [],
    "vscode": {
     "languageId": "cpp"
    }
   },
   "outputs": [
    {
     "name": "stdout",
     "output_type": "stream",
     "text": [
      "EigenClient object created.\n"
     ]
    },
    {
     "name": "stdout",
     "output_type": "stream",
     "text": [
      "Setting BasicAuthentication credentials.\n"
     ]
    }
   ],
   "source": [
    "// Let us instantiate our client (with BasicAuth + timeout)\n",
    "auto client_ba = ansys::rest::client::EigenClient(\"http:/cpp-rest_server_1:18080\", \"myUser\", \"myPwd\", 10);"
   ]
  },
  {
   "cell_type": "markdown",
   "id": "9d4f849d",
   "metadata": {
    "papermill": {
     "duration": 0.00201,
     "end_time": "2022-05-13T14:09:24.548017",
     "exception": false,
     "start_time": "2022-05-13T14:09:24.546007",
     "status": "completed"
    },
    "tags": []
   },
   "source": [
    "One initial way to see if everything is working properly, is making use of the ``request_greeting`` method available in the client, which performs a simple handshake with the server. The server will receive the request and respond to it. Let's go ahead and do it!"
   ]
  },
  {
   "cell_type": "code",
   "execution_count": 6,
   "id": "f4ad7347",
   "metadata": {
    "execution": {
     "iopub.execute_input": "2022-05-13T14:09:24.552606Z",
     "iopub.status.busy": "2022-05-13T14:09:24.552558Z",
     "iopub.status.idle": "2022-05-13T14:09:24.555079Z",
     "shell.execute_reply": "2022-05-13T14:09:24.555037Z"
    },
    "papermill": {
     "duration": 0.006098,
     "end_time": "2022-05-13T14:09:24.556236",
     "exception": false,
     "start_time": "2022-05-13T14:09:24.550138",
     "status": "completed"
    },
    "tags": [],
    "vscode": {
     "languageId": "cpp"
    }
   },
   "outputs": [
    {
     "name": "stdout",
     "output_type": "stream",
     "text": [
      "Response: Code - 200 ; Body: Greetings from the REST Eigen Server (implemented in C++)!\n"
     ]
    }
   ],
   "source": [
    "// Now, let us check if the connection to the server is adequate by requesting a greeting\n",
    "client.request_greeting();"
   ]
  },
  {
   "cell_type": "markdown",
   "id": "d5280a80",
   "metadata": {
    "papermill": {
     "duration": 0.002163,
     "end_time": "2022-05-13T14:09:24.560525",
     "exception": false,
     "start_time": "2022-05-13T14:09:24.558362",
     "status": "completed"
    },
    "tags": []
   },
   "source": [
    "Now, we will proceed to perform a simple operation such as adding two ``std::vector<double>``. However, let us suppose that we were not able to do it in the client side. So let us ask the server to do it for us.... using REST!"
   ]
  },
  {
   "cell_type": "code",
   "execution_count": 7,
   "id": "ba8e5857",
   "metadata": {
    "execution": {
     "iopub.execute_input": "2022-05-13T14:09:24.565358Z",
     "iopub.status.busy": "2022-05-13T14:09:24.565309Z",
     "iopub.status.idle": "2022-05-13T14:09:24.577127Z",
     "shell.execute_reply": "2022-05-13T14:09:24.577071Z"
    },
    "papermill": {
     "duration": 0.015188,
     "end_time": "2022-05-13T14:09:24.577974",
     "exception": false,
     "start_time": "2022-05-13T14:09:24.562786",
     "status": "completed"
    },
    "tags": [],
    "vscode": {
     "languageId": "cpp"
    }
   },
   "outputs": [],
   "source": [
    "// Once the connection has been checked, let us start declaring some vectors\n",
    "\n",
    "#include <vector>\n",
    "\n",
    "std::vector<double> vec1 = {2.0, 3.0, 4.0, 5.0};\n",
    "std::vector<double> vec2 = {3.0, 7.0, 2.0, 1.0};"
   ]
  },
  {
   "cell_type": "markdown",
   "id": "61d8aae4",
   "metadata": {
    "papermill": {
     "duration": 0.002127,
     "end_time": "2022-05-13T14:09:24.582373",
     "exception": false,
     "start_time": "2022-05-13T14:09:24.580246",
     "status": "completed"
    },
    "tags": []
   },
   "source": [
    "Now, we will call the client method ``add_vectors(...)``, and we will explain the typical process of all interface methods (``add_XXXXX(...)`` ` and ``multiply_XXXXX(...)``):\n",
    "\n",
    "* The client performs some sanity checks to confirm that the inputs provided are as expected. This Demo has some limitations such as: only 1D, 2D std::vector containers are allowed; they must be of type double. However, if we were to interact directly with the server, much more considerations would have to be taken into account (regarding the format of the requests - that is the reason why we use a client library).\n",
    "\n",
    "* Once the client has checked that everything is fine to go, we POST our RESOURCES. Here is where the REST world starts:\n",
    "\n",
    "    * Servers expose resources, also known as entities, which are well understood if we compare them to objects. For example, if we want to POST a RESOURCE we should basically:\n",
    "\n",
    "        * ``POST`` to ``${server-uri}/${resource}`` --> In our demo: ``http://cpp-rest_server_1:18080/Vectors``.\n",
    "\n",
    "        * Our Demo server has two resources implemented ``Matrices`` and ``Vectors``. Hence, we can only handle 1D and 2D std::vector containers.\n",
    "\n",
    "    * When POSTing a resource, the request body contains the resource's information (i.e. our request will contain the 1D std::vector we want to POST). This information is usually serialized into a JSON format and the expected keys must be known by the client and the server to allow a proper interfacing. In a real REST application, the server usually exposes its metadata, which is basically the schema/structure of the different entities implemented (their names, attributes etc). This way, end users know how to interact with the server without knowing the specifics of the implementation.\n",
    "\n",
    "        * Imagine we were to use CURL commands, the POST request for our first Vector would look something like this:\n",
    "\n",
    "        * ``curl -X POST \"http://cpp-rest_server_1:18080/Vectors\" -H \"Content-Type: application/json\" -d '{\"value\":[5.0, 23.0, 3.0, 4.0]}'``\n",
    "\n",
    "    * If the POST was successful, we will receive an HTTP Response which will contain in its body the ID of the posted resource.\n",
    "\n",
    "        * ``{\"vector\" : {\"id\" : 1235412 }}``\n",
    "\n",
    "    * The server contains a DB in which the resources posted are stored/retrieved.\n",
    "\n",
    "* After the POSTings are performed, we will now proceed to ask the server for a certain operation involving the resources submitted.\n",
    "\n",
    "    * Servers can also admit \"operations\". A typical standard for defining operation-endpoints would be:\n",
    "\n",
    "        * ``GET`` to ``${server-uri}/${operation}/${resource}`` --> In our demo: ``http://cpp-rest_server_1:18080/add/Vectors``\n",
    "\n",
    "    * These GET requests will also contain in its body the IDs of the involved resources:\n",
    "\n",
    "        * Imagine we were to use CURL commands, the GET request for adding two Vectors would look something like this:\n",
    "\n",
    "        * ``curl -X GET \"http://http://cpp-rest_server_1:18080/add/Vectors\" -H \"Content-Type: application/json\" -d '{\"id1\":1, \"id2\":2}'``\n",
    "\n",
    "    * Requesting \"operations\" or \"actions\" can be done in multiple ways. In fact, out client implements yet another way of interacting with the server:\n",
    "\n",
    "        * ``GET`` to ``${server-uri}/${operation}/${resource}/${resourceID_1}/${resourceID_2}`` --> In our demo: ``http://cpp-rest_server_1:18080/add/Vectors/1/2``\n",
    "\n",
    "    * The server will then interact with the DB, retrieve the Vectors, call the Eigen Library, perform the operation and return the result.\n",
    "\n",
    "    * The client will then receive a response containing the result of the operation:\n",
    "\n",
    "        * ``{\"vector-addition\" : {\"result\" : [2.0, 3.0, 5.0, 4.0] }}``\n",
    "\n",
    "        * The dedicated client implemented will then parse this JSON string and transform the resulting value into a std::vector container.\n",
    "\n",
    "        * This way, the end user calls the client library with std::vector containers and retrieves std::vector containers, without having to know the specifics of the interface.\n",
    "\n",
    "\n",
    "Let us now call the method!"
   ]
  },
  {
   "cell_type": "code",
   "execution_count": 8,
   "id": "ea7948c5",
   "metadata": {
    "execution": {
     "iopub.execute_input": "2022-05-13T14:09:24.587967Z",
     "iopub.status.busy": "2022-05-13T14:09:24.587921Z",
     "iopub.status.idle": "2022-05-13T14:09:24.846291Z",
     "shell.execute_reply": "2022-05-13T14:09:24.846238Z"
    },
    "papermill": {
     "duration": 0.263265,
     "end_time": "2022-05-13T14:09:24.848254",
     "exception": false,
     "start_time": "2022-05-13T14:09:24.584989",
     "status": "completed"
    },
    "tags": [],
    "vscode": {
     "languageId": "cpp"
    }
   },
   "outputs": [
    {
     "name": "stdout",
     "output_type": "stream",
     "text": [
      "Request: POST /Vectors Content: {\"value\":[2.0,3.0,4.0,5.0]}\n",
      "\n"
     ]
    },
    {
     "name": "stdout",
     "output_type": "stream",
     "text": [
      "Response: Code - 201 ; Body: {\"vector\":{\"id\":1}}\n"
     ]
    },
    {
     "name": "stdout",
     "output_type": "stream",
     "text": [
      "Request: POST /Vectors Content: {\"value\":[3.0,7.0,2.0,1.0]}\n",
      "\n"
     ]
    },
    {
     "name": "stdout",
     "output_type": "stream",
     "text": [
      "Response: Code - 201 ; Body: {\"vector\":{\"id\":2}}\n"
     ]
    },
    {
     "name": "stdout",
     "output_type": "stream",
     "text": [
      "Request: GET /add/Vectors/1/2\n"
     ]
    },
    {
     "name": "stdout",
     "output_type": "stream",
     "text": [
      "Response: Code - 200 ; Body: {\"vector-addition\":{\"result\":\"[5.000000, 10.000000, 6.000000, 6.000000]\"}}\n"
     ]
    },
    {
     "data": {
      "text/plain": [
       "{}"
      ]
     },
     "execution_count": 8,
     "metadata": {},
     "output_type": "execute_result"
    }
   ],
   "source": [
    "// Let us add the vectors!\n",
    "client.add_vectors(vec1, vec2)"
   ]
  },
  {
   "cell_type": "markdown",
   "id": "ce540566",
   "metadata": {
    "papermill": {
     "duration": 0.013002,
     "end_time": "2022-05-13T14:09:24.863926",
     "exception": false,
     "start_time": "2022-05-13T14:09:24.850924",
     "status": "completed"
    },
    "tags": []
   },
   "source": [
    "As mentioned before, there are several other methods implemented:"
   ]
  },
  {
   "cell_type": "code",
   "execution_count": 9,
   "id": "b53df6ac",
   "metadata": {
    "execution": {
     "iopub.execute_input": "2022-05-13T14:09:24.870175Z",
     "iopub.status.busy": "2022-05-13T14:09:24.870114Z",
     "iopub.status.idle": "2022-05-13T14:09:25.474710Z",
     "shell.execute_reply": "2022-05-13T14:09:25.474230Z"
    },
    "papermill": {
     "duration": 0.182727,
     "end_time": "2022-05-13T14:09:25.049344",
     "exception": false,
     "start_time": "2022-05-13T14:09:24.866617",
     "status": "completed"
    },
    "tags": [],
    "vscode": {
     "languageId": "cpp"
    }
   },
   "outputs": [
    {
     "name": "stdout",
     "output_type": "stream",
     "text": [
      "Request: POST /Vectors Content: {\"value\":[2.0,3.0,4.0,5.0]}\n",
      "\n"
     ]
    },
    {
     "name": "stdout",
     "output_type": "stream",
     "text": [
      "Response: Code - 201 ; Body: {\"vector\":{\"id\":3}}\n"
     ]
    },
    {
     "name": "stdout",
     "output_type": "stream",
     "text": [
      "Request: POST /Vectors Content: {\"value\":[3.0,7.0,2.0,1.0]}\n",
      "\n"
     ]
    },
    {
     "name": "stdout",
     "output_type": "stream",
     "text": [
      "Response: Code - 201 ; Body: {\"vector\":{\"id\":4}}\n"
     ]
    },
    {
     "name": "stdout",
     "output_type": "stream",
     "text": [
      "Request: GET /multiply/Vectors/3/4\n"
     ]
    },
    {
     "name": "stdout",
     "output_type": "stream",
     "text": [
      "Response: Code - 200 ; Body: {\"vector-multiplication\":{\"result\":40.0}}\n"
     ]
    },
    {
     "data": {
      "text/plain": [
       "40.000000"
      ]
     },
     "execution_count": 9,
     "metadata": {},
     "output_type": "execute_result"
    }
   ],
   "source": [
    "// Let us compute the dot product of the vectors!\n",
    "client.multiply_vectors(vec1, vec2)"
   ]
  },
  {
   "cell_type": "markdown",
   "id": "d828c500",
   "metadata": {
    "papermill": {
     "duration": 0.012943,
     "end_time": "2022-05-13T14:09:25.065243",
     "exception": false,
     "start_time": "2022-05-13T14:09:25.052300",
     "status": "completed"
    },
    "tags": []
   },
   "source": [
    "Let us show as well operations with 2D std::vector containers (i.e. Matrices)."
   ]
  },
  {
   "cell_type": "code",
   "execution_count": 10,
   "id": "17d62fd1",
   "metadata": {
    "execution": {
     "iopub.execute_input": "2022-05-13T14:09:25.710790Z",
     "iopub.status.busy": "2022-05-13T14:09:25.710420Z",
     "iopub.status.idle": "2022-05-13T14:09:25.940200Z",
     "shell.execute_reply": "2022-05-13T14:09:25.939610Z"
    },
    "papermill": {
     "duration": 0.026991,
     "end_time": "2022-05-13T14:09:25.095026",
     "exception": false,
     "start_time": "2022-05-13T14:09:25.068035",
     "status": "completed"
    },
    "tags": [],
    "vscode": {
     "languageId": "cpp"
    }
   },
   "outputs": [],
   "source": [
    "// Now, let us do the same for matrices!\n",
    "std::vector<std::vector<double>> mat1 = {{2.0, 3.0}, {4.0, 5.0}};\n",
    "std::vector<std::vector<double>> mat2 = {{3.0, 7.0}, {2.0, 1.0}};"
   ]
  },
  {
   "cell_type": "code",
   "execution_count": 11,
   "id": "5ed65a89",
   "metadata": {
    "execution": {
     "iopub.execute_input": "2022-05-13T14:09:25.101204Z",
     "iopub.status.busy": "2022-05-13T14:09:25.101164Z",
     "iopub.status.idle": "2022-05-13T14:09:25.288987Z",
     "shell.execute_reply": "2022-05-13T14:09:25.288935Z"
    },
    "papermill": {
     "duration": 0.192928,
     "end_time": "2022-05-13T14:09:25.290868",
     "exception": false,
     "start_time": "2022-05-13T14:09:25.097940",
     "status": "completed"
    },
    "tags": [],
    "vscode": {
     "languageId": "cpp"
    }
   },
   "outputs": [
    {
     "name": "stdout",
     "output_type": "stream",
     "text": [
      "Request: POST /Matrices Content: {\"value\":[[2.0,3.0],[4.0,5.0]]}\n",
      "\n"
     ]
    },
    {
     "name": "stdout",
     "output_type": "stream",
     "text": [
      "Response: Code - 201 ; Body: {\"matrix\":{\"id\":5}}\n"
     ]
    },
    {
     "name": "stdout",
     "output_type": "stream",
     "text": [
      "Request: POST /Matrices Content: {\"value\":[[3.0,7.0],[2.0,1.0]]}\n",
      "\n"
     ]
    },
    {
     "name": "stdout",
     "output_type": "stream",
     "text": [
      "Response: Code - 201 ; Body: {\"matrix\":{\"id\":6}}\n"
     ]
    },
    {
     "name": "stdout",
     "output_type": "stream",
     "text": [
      "Request: GET /add/Matrices/5/6\n"
     ]
    },
    {
     "name": "stdout",
     "output_type": "stream",
     "text": [
      "Response: Code - 200 ; Body: {\"matrix-addition\":{\"result\":\"[[5.000000, 10.000000], [6.000000, 6.000000]]\"}}\n"
     ]
    },
    {
     "data": {
      "text/plain": [
       "{}"
      ]
     },
     "execution_count": 11,
     "metadata": {},
     "output_type": "execute_result"
    }
   ],
   "source": [
    "// Let us add the matrices!\n",
    "client.add_matrices(mat1, mat2)"
   ]
  },
  {
   "cell_type": "code",
   "execution_count": 12,
   "id": "b67e844a",
   "metadata": {
    "execution": {
     "iopub.execute_input": "2022-05-13T14:09:25.305766Z",
     "iopub.status.busy": "2022-05-13T14:09:25.305702Z",
     "iopub.status.idle": "2022-05-13T14:09:25.489828Z",
     "shell.execute_reply": "2022-05-13T14:09:25.489779Z"
    },
    "papermill": {
     "duration": 0.197696,
     "end_time": "2022-05-13T14:09:25.491677",
     "exception": false,
     "start_time": "2022-05-13T14:09:25.293981",
     "status": "completed"
    },
    "tags": [],
    "vscode": {
     "languageId": "cpp"
    }
   },
   "outputs": [
    {
     "name": "stdout",
     "output_type": "stream",
     "text": [
      "Request: POST /Matrices Content: {\"value\":[[2.0,3.0],[4.0,5.0]]}\n",
      "\n"
     ]
    },
    {
     "name": "stdout",
     "output_type": "stream",
     "text": [
      "Response: Code - 201 ; Body: {\"matrix\":{\"id\":7}}\n"
     ]
    },
    {
     "name": "stdout",
     "output_type": "stream",
     "text": [
      "Request: POST /Matrices Content: {\"value\":[[3.0,7.0],[2.0,1.0]]}\n",
      "\n"
     ]
    },
    {
     "name": "stdout",
     "output_type": "stream",
     "text": [
      "Response: Code - 201 ; Body: {\"matrix\":{\"id\":8}}\n"
     ]
    },
    {
     "name": "stdout",
     "output_type": "stream",
     "text": [
      "Request: GET /multiply/Matrices/7/8\n"
     ]
    },
    {
     "name": "stdout",
     "output_type": "stream",
     "text": [
      "Response: Code - 200 ; Body: {\"matrix-multiplication\":{\"result\":\"[[12.000000, 17.000000], [22.000000, 33.000000]]\"}}\n"
     ]
    },
    {
     "data": {
      "text/plain": [
       "{}"
      ]
     },
     "execution_count": 12,
     "metadata": {},
     "output_type": "execute_result"
    }
   ],
   "source": [
    "// Let us multiply the matrices!\n",
    "client.multiply_matrices(mat1, mat2)"
   ]
  }
 ],
 "metadata": {
  "kernelspec": {
   "display_name": "C++11",
   "language": "C++11",
   "name": "xcpp11"
  },
  "language_info": {
   "codemirror_mode": "text/x-c++src",
   "file_extension": ".cpp",
   "mimetype": "text/x-c++src",
   "name": "c++",
   "version": "11"
  },
  "papermill": {
   "default_parameters": {},
   "duration": 2.304094,
   "end_time": "2022-05-13T14:09:25.602052",
   "environment_variables": {},
   "exception": null,
   "input_path": "demo.ipynb",
   "output_path": "demo_out.ipynb",
   "parameters": {},
   "start_time": "2022-05-13T14:09:23.297958",
   "version": "2.3.4"
  }
 },
 "nbformat": 4,
 "nbformat_minor": 5
}