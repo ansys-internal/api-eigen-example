{
 "cells": [
  {
   "cell_type": "code",
   "execution_count": null,
   "metadata": {
    "kernelspec": {
     "display_name": "C++11",
     "language": "C++11",
     "name": "xcpp11"
    },
    "language_info": {
     "codemirror_mode": "text/x-c++src",
     "file_extension": ".cpp",
     "mimetype": "text/x-c++src",
     "name": "c++",
     "version": "11"
    },
    "vscode": {
     "languageId": "cpp"
    }
   },
   "outputs": [],
   "source": [
    "#pragma cling add_include_path(\"/usr/local/include\")\n",
    "#pragma cling add_library_path(\"/usr/local/lib\")"
   ]
  },
  {
   "cell_type": "code",
   "execution_count": null,
   "metadata": {
    "vscode": {
     "languageId": "cpp"
    }
   },
   "outputs": [],
   "source": [
    "#pragma cling load(\"libapi_eigen_example_rest_client\")"
   ]
  },
  {
   "cell_type": "code",
   "execution_count": null,
   "metadata": {
    "vscode": {
     "languageId": "cpp"
    }
   },
   "outputs": [],
   "source": [
    "// Let us create a Client object first. This starts by importing the library\n",
    "#include <apieigen/rest/EigenClient.hpp>"
   ]
  },
  {
   "cell_type": "code",
   "execution_count": null,
   "metadata": {
    "vscode": {
     "languageId": "cpp"
    }
   },
   "outputs": [],
   "source": [
    "// Let us instantiate our client\n",
    "auto client = ansys::rest::client::EigenClient(\"http:/cpp-rest_server_1:18080\");"
   ]
  },
  {
   "cell_type": "code",
   "execution_count": null,
   "metadata": {
    "vscode": {
     "languageId": "cpp"
    }
   },
   "outputs": [],
   "source": [
    "// Now, let us check if the connection to the server is adequate by requesting a greeting\n",
    "client.request_greeting();"
   ]
  },
  {
   "cell_type": "code",
   "execution_count": null,
   "metadata": {
    "vscode": {
     "languageId": "cpp"
    }
   },
   "outputs": [],
   "source": [
    "// Once the connection has been checked, let us start declaring some vectors\n",
    "\n",
    "#include <vector>\n",
    "\n",
    "std::vector<double> vec1 = {2.0, 3.0, 4.0, 5.0};\n",
    "std::vector<double> vec2 = {3.0, 7.0, 2.0, 1.0};"
   ]
  },
  {
   "cell_type": "code",
   "execution_count": null,
   "metadata": {
    "vscode": {
     "languageId": "cpp"
    }
   },
   "outputs": [],
   "source": [
    "// Let us add the vectors!\n",
    "client.add_vectors(vec1, vec2)"
   ]
  },
  {
   "cell_type": "code",
   "execution_count": null,
   "metadata": {
    "vscode": {
     "languageId": "cpp"
    }
   },
   "outputs": [],
   "source": [
    "// Let us compute the dot product of the vectors!\n",
    "client.multiply_vectors(vec1, vec2)"
   ]
  },
  {
   "cell_type": "code",
   "execution_count": null,
   "metadata": {
    "vscode": {
     "languageId": "cpp"
    }
   },
   "outputs": [],
   "source": [
    "// Now, let us do the same for matrices!\n",
    "std::vector<std::vector<double>> mat1 = {{2.0, 3.0}, {4.0, 5.0}};\n",
    "std::vector<std::vector<double>> mat2 = {{3.0, 7.0}, {2.0, 1.0}};"
   ]
  },
  {
   "cell_type": "code",
   "execution_count": null,
   "metadata": {
    "vscode": {
     "languageId": "cpp"
    }
   },
   "outputs": [],
   "source": [
    "// Let us add the matrices!\n",
    "client.add_matrices(mat1, mat2)"
   ]
  },
  {
   "cell_type": "code",
   "execution_count": null,
   "metadata": {
    "vscode": {
     "languageId": "cpp"
    }
   },
   "outputs": [],
   "source": [
    "// Let us multiply the matrices!\n",
    "client.multiply_matrices(mat1, mat2)"
   ]
  }
 ],
 "metadata": {
  "language_info": {
   "name": "python"
  },
  "orig_nbformat": 4
 },
 "nbformat": 4,
 "nbformat_minor": 2
}
